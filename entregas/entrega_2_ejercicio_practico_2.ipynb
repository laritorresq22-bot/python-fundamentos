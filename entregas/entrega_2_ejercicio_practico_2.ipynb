{
  "nbformat": 4,
  "nbformat_minor": 0,
  "metadata": {
    "colab": {
      "provenance": []
    },
    "kernelspec": {
      "name": "python3",
      "display_name": "Python 3"
    },
    "language_info": {
      "name": "python"
    }
  },
  "cells": [
    {
      "cell_type": "markdown",
      "source": [
        "1. Escribe un programa que muestre en pantalla el resultado de $\\left(\\frac{4*2}{2+3}\\right)^2$\n",
        "\n",
        "\n",
        "\n"
      ],
      "metadata": {
        "id": "ciQFwwkJnyk9"
      }
    },
    {
      "cell_type": "code",
      "source": [
        "resultado = ()"
      ],
      "metadata": {
        "id": "PjIbKXkzJdbO"
      },
      "execution_count": null,
      "outputs": []
    },
    {
      "cell_type": "code",
      "source": [
        "##programa\n",
        "resultado = ((4*2/(2+3))**2)\n",
        "print(resultado)"
      ],
      "metadata": {
        "colab": {
          "base_uri": "https://localhost:8080/"
        },
        "id": "e0eMgVxkJH-Y",
        "outputId": "3b755e59-a226-4792-ef70-0b813e1ff0f4"
      },
      "execution_count": null,
      "outputs": [
        {
          "output_type": "stream",
          "name": "stdout",
          "text": [
            "2.5600000000000005\n"
          ]
        }
      ]
    },
    {
      "cell_type": "markdown",
      "source": [
        "2. Escribe una función que, dado el peso (en kg) y la altura (en metros), calcule y devuelva el Índice de Masa Corporal"
      ],
      "metadata": {
        "id": "H-jbxmfenhmf"
      }
    },
    {
      "cell_type": "code",
      "source": [
        "##IMC\n",
        "peso = 65\n",
        "altura = 1.75\n",
        "IMC = peso/(altura**2)\n",
        "print(IMC)"
      ],
      "metadata": {
        "colab": {
          "base_uri": "https://localhost:8080/"
        },
        "id": "vgOg7K2uKF8Y",
        "outputId": "272a6c18-2602-49df-ed67-4602ba61e0a9"
      },
      "execution_count": null,
      "outputs": [
        {
          "output_type": "stream",
          "name": "stdout",
          "text": [
            "21.224489795918366\n"
          ]
        }
      ]
    },
    {
      "cell_type": "markdown",
      "source": [
        "3. Escribe ahora la misma función, pero que en vez de recibir el peso y la altura como argumentos, los pida como input al usuario. Ten en cuenta que el input recibido será de tipo string, por lo que habrá que convertirlo a `int` o `float` antes de tratarlos."
      ],
      "metadata": {
        "id": "-E9bwBUXrkjl"
      }
    },
    {
      "cell_type": "markdown",
      "source": [
        "4. Modifica la función anterior, para que en vez de devolver el IMC, lo imprima en pantalla junto con el mensaje \"Tu IMC es ____ \""
      ],
      "metadata": {
        "id": "yWJESkS9tUM3"
      }
    },
    {
      "cell_type": "code",
      "source": [
        "##pedir informacion al usuario\n",
        "PESO = float(input(\"Por favor, ingresa tu PESO en kg: \"))\n",
        "ALTURA = float(input(\"Por favor, ingresa tu ALTURA en metros: \"))\n",
        "\n",
        "##calcular IMC\n",
        "IMC = PESO/(ALTURA**2)\n",
        "print(IMC)\n"
      ],
      "metadata": {
        "id": "T0TprOkwLrZ3",
        "colab": {
          "base_uri": "https://localhost:8080/"
        },
        "outputId": "0aeae741-fcb8-440f-b3ad-c3333db0d42e"
      },
      "execution_count": null,
      "outputs": [
        {
          "output_type": "stream",
          "name": "stdout",
          "text": [
            "Por favor, ingresa tu PESO en kg: 65\n",
            "Por favor, ingresa tu ALTURA en metros: 1.75\n",
            "21.224489795918366\n",
            "Tu IMC es: 21.224489795918366\n"
          ]
        }
      ]
    },
    {
      "cell_type": "code",
      "source": [
        "##mensaje\n",
        "print(f\"Tu IMC es: {round(IMC,2)}\")"
      ],
      "metadata": {
        "colab": {
          "base_uri": "https://localhost:8080/"
        },
        "id": "-TfmiYXIPFIb",
        "outputId": "dce6c7dd-a7b2-41c0-979f-6cb2a0e88274"
      },
      "execution_count": null,
      "outputs": [
        {
          "output_type": "stream",
          "name": "stdout",
          "text": [
            "Tu IMC es: 21.22\n"
          ]
        }
      ]
    },
    {
      "cell_type": "markdown",
      "source": [
        "5. Escribe una función que tome como argumento una palabra, e imprima en pantalla el número de letras que tiene1."
      ],
      "metadata": {
        "id": "gpMMHwPguq-N"
      }
    },
    {
      "cell_type": "code",
      "metadata": {
        "colab": {
          "base_uri": "https://localhost:8080/"
        },
        "id": "SJz2fvetQbbZ",
        "outputId": "4324e1e4-d3d7-439e-9262-27e065a8ac87"
      },
      "source": [
        "num_letras= len(\"Playa\")\n",
        "print(num_letras)"
      ],
      "execution_count": null,
      "outputs": [
        {
          "output_type": "stream",
          "name": "stdout",
          "text": [
            "5\n"
          ]
        }
      ]
    },
    {
      "cell_type": "code",
      "source": [
        "def contar_letras(palabra):\n",
        "    num_letras = len(palabra)\n",
        "    #resultado\n",
        "    print(f\"La palabra '{palabra}' tiene {num_letras} letras.\")\n",
        "\n",
        "contar_letras(\"Playa\")"
      ],
      "metadata": {
        "colab": {
          "base_uri": "https://localhost:8080/"
        },
        "id": "-dXOUg7CSEIu",
        "outputId": "fa193394-1b15-48a5-acc6-adad24fad550"
      },
      "execution_count": 2,
      "outputs": [
        {
          "output_type": "stream",
          "name": "stdout",
          "text": [
            "La palabra 'Playa' tiene 5 letras.\n"
          ]
        }
      ]
    },
    {
      "cell_type": "markdown",
      "source": [
        "6. Escribe una función que dada una palabra y una letra, imprima lo siguiente:\n",
        "\n",
        "\n",
        "*   Si la palabra contiene la letra: \"La palabra '_____' contiene la letra __ \"\n",
        "*   Si no la contiene: \"La palabra '_____'  no contiene la letra __ \"\n",
        "\n"
      ],
      "metadata": {
        "id": "jAPFMaqtvVst"
      }
    },
    {
      "cell_type": "code",
      "source": [
        "\n",
        "def buscar_letra(palabra, letra):\n",
        "    if letra in palabra:\n",
        "        print(f\"La palabra '{palabra}' contiene la letra {letra}\")\n",
        "    else:\n",
        "        print(f\"La palabra '{palabra}' no contiene la letra {letra}\")\n",
        "buscar_letra(\"Verano\", \"n\")"
      ],
      "metadata": {
        "colab": {
          "base_uri": "https://localhost:8080/"
        },
        "id": "mjO8XJ0rVnfU",
        "outputId": "3c1a3e85-c07c-4c27-8fe8-77d93a39f845"
      },
      "execution_count": null,
      "outputs": [
        {
          "output_type": "stream",
          "name": "stdout",
          "text": [
            "La palabra 'Verano' contiene la letra n\n"
          ]
        }
      ]
    },
    {
      "cell_type": "markdown",
      "source": [
        "7. En Python (y en muchos otros lenguajes de programacion) hay letras minúsculas y mayúsculas son elementos diferentes"
      ],
      "metadata": {
        "id": "qN9ONQ6HxHeP"
      }
    },
    {
      "cell_type": "markdown",
      "source": [
        "Adapta la función (en el caso de que no esté ya adaptada) para que identifique si contiene la letra independientemente de si es mayúscula o minúscula"
      ],
      "metadata": {
        "id": "XjE6G_OSxhTW"
      }
    },
    {
      "cell_type": "code",
      "source": [
        "def buscar_letra(palabra, letra):\n",
        "    if letra.upper() in palabra.upper():\n",
        "        print(f\"La palabra '{palabra}' contiene la letra {letra}\")\n",
        "    else:\n",
        "        print(f\"La palabra '{palabra}' no contiene la letra {letra}\")\n",
        "buscar_letra(\"Verano\", \"n\")"
      ],
      "metadata": {
        "colab": {
          "base_uri": "https://localhost:8080/"
        },
        "id": "Epehe53YYBMo",
        "outputId": "19bc9488-9bdc-471e-ccf4-48732532acca"
      },
      "execution_count": 3,
      "outputs": [
        {
          "output_type": "stream",
          "name": "stdout",
          "text": [
            "La palabra 'Verano' contiene la letra n\n"
          ]
        }
      ]
    },
    {
      "cell_type": "markdown",
      "source": [
        "8. Escribe una función que dada una palabra y un número, imprima la palabra en pantalla ese numero de veces"
      ],
      "metadata": {
        "id": "ZNjTnxFMx-rl"
      }
    },
    {
      "cell_type": "code",
      "source": [
        "def repetir_palabra(palabra, veces):\n",
        "    print(palabra * veces)\n",
        "\n",
        "#valores deseados\n",
        "repetir_palabra(\" Mallorca \", 5)"
      ],
      "metadata": {
        "colab": {
          "base_uri": "https://localhost:8080/"
        },
        "id": "EIJ32zEoZC2I",
        "outputId": "40daf5ed-72ee-49ad-c3bf-8a634434cda6"
      },
      "execution_count": 6,
      "outputs": [
        {
          "output_type": "stream",
          "name": "stdout",
          "text": [
            " Mallorca  Mallorca  Mallorca  Mallorca  Mallorca \n"
          ]
        }
      ]
    },
    {
      "cell_type": "markdown",
      "source": [
        "9. Escribe un programa que imprima en pantalla los 20 primeros números naturales usando un loop"
      ],
      "metadata": {
        "id": "j-AVf0_RyjsE"
      }
    },
    {
      "cell_type": "code",
      "source": [
        "for i in range(1, 21):\n",
        "  print(i, end=\" \")"
      ],
      "metadata": {
        "colab": {
          "base_uri": "https://localhost:8080/"
        },
        "id": "FPsKs6G4_ns5",
        "outputId": "82dbf282-cf6b-4de2-e2ca-e66aac98dc8b"
      },
      "execution_count": null,
      "outputs": [
        {
          "output_type": "stream",
          "name": "stdout",
          "text": [
            "1 2 3 4 5 6 7 8 9 10 11 12 13 14 15 16 17 18 19 20 "
          ]
        }
      ]
    },
    {
      "cell_type": "markdown",
      "source": [
        "10. Escribe una función que, dada una palabra y una letra, devuelva el numero de veces que aparece la letra en la palabra"
      ],
      "metadata": {
        "id": "eEooktLl0Zib"
      }
    },
    {
      "cell_type": "code",
      "source": [
        "def contar_letra(palabra, letra):\n",
        "    numero = palabra.count(letra)\n",
        "    return numero\n",
        "palabra = 'Menorca'\n",
        "letra = 'a'\n",
        "RESULTADO = contar_letra(palabra, letra)\n",
        "print(RESULTADO)"
      ],
      "metadata": {
        "id": "wwLy8NvSI4GH",
        "colab": {
          "base_uri": "https://localhost:8080/"
        },
        "outputId": "2b1c5c02-f005-402b-aad9-bc63b8549c41"
      },
      "execution_count": 7,
      "outputs": [
        {
          "output_type": "stream",
          "name": "stdout",
          "text": [
            "1\n"
          ]
        }
      ]
    }
  ]
}