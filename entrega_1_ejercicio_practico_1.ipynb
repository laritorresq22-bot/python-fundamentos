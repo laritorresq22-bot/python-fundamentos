{
  "nbformat": 4,
  "nbformat_minor": 0,
  "metadata": {
    "colab": {
      "provenance": []
    },
    "kernelspec": {
      "name": "python3",
      "display_name": "Python 3"
    },
    "language_info": {
      "name": "python"
    }
  },
  "cells": [
    {
      "cell_type": "markdown",
      "source": [
        "1. Crea 2 variables, `a` y `b`, y asignales los valores 5 y 7 respectivamente\n"
      ],
      "metadata": {
        "id": "g9eqyBtJm1Fu"
      }
    },
    {
      "cell_type": "markdown",
      "source": [
        "2. Guarda la suma de `a` y `b` en la variable `c`"
      ],
      "metadata": {
        "id": "BW8HWMt1vmt-"
      }
    },
    {
      "cell_type": "markdown",
      "source": [
        "3. Actualiza el valor de variable `c` sumandole 2 a sí misma"
      ],
      "metadata": {
        "id": "6_gmouJmzbpG"
      }
    },
    {
      "cell_type": "markdown",
      "source": [
        "4. Imprime en pantalla el valor de c"
      ],
      "metadata": {
        "id": "1rOBpTRbzouF"
      }
    },
    {
      "cell_type": "markdown",
      "source": [],
      "metadata": {
        "id": "U0ZZT0tJY3Mr"
      }
    },
    {
      "cell_type": "markdown",
      "source": [
        "5. Imprime en pantalla la siguiente frase:\n",
        "\n",
        "\"El valor de c es _\"\n",
        "\n",
        "Adaptarlo para que muestre el valor de la variable."
      ],
      "metadata": {
        "id": "VAM9UoDB0Dae"
      }
    },
    {
      "cell_type": "markdown",
      "source": [
        "7. Como podemos saber cuál es el tipo de datos de c?"
      ],
      "metadata": {
        "id": "ewJvonq83zV_"
      }
    },
    {
      "cell_type": "markdown",
      "source": [
        "8. Multiplica `c` por 1.0. Gurada el resultado en `d`"
      ],
      "metadata": {
        "id": "4XuqWLSU4839"
      }
    },
    {
      "cell_type": "markdown",
      "source": [
        "9. Qué clase o tipo de dato almacena la variable `d`?"
      ],
      "metadata": {
        "id": "lc65lFOeU6_f"
      }
    },
    {
      "cell_type": "markdown",
      "source": [
        "10. A la luz del tipo de datos vistos en `c` y `d`, podemos decir que ambas variables son iguales? Escribe una expresión booleana que los iguale"
      ],
      "metadata": {
        "id": "yBjFrkdyVREY"
      }
    },
    {
      "cell_type": "markdown",
      "source": [
        "11. Guarda en una lista las variables `a`, `b`, `c` y `d`. Llama a la variable que la almacena *lista*"
      ],
      "metadata": {
        "id": "jifYF08OVqMI"
      }
    },
    {
      "cell_type": "markdown",
      "source": [
        "12. Guarda en una tupla las variables `a`, `b`, `c` y `d`. Llama a la variable que la almacena *tupla*"
      ],
      "metadata": {
        "id": "O6mGrUHuWiHn"
      }
    },
    {
      "cell_type": "markdown",
      "source": [
        "13. Guarda en un diccionario las variables `a`, `b`, `c` y `d`. Las claves o *keys* serán 'a', 'b', 'c' y 'd' y los valores las propias variables.  Llama a la variable que lo almacena *diccionario*"
      ],
      "metadata": {
        "id": "Jj2GFotrWW8N"
      }
    },
    {
      "cell_type": "markdown",
      "source": [
        "14. Muestra el primer elemento de *lista*"
      ],
      "metadata": {
        "id": "tnBsjW-mbUM_"
      }
    },
    {
      "cell_type": "markdown",
      "source": [
        "15. Muestra el último elemento de *tupla*"
      ],
      "metadata": {
        "id": "0x-36zvlbjOI"
      }
    },
    {
      "cell_type": "markdown",
      "source": [
        "16. Convierte *tupla* en una lista. Guarda el resultado en *lista_2*"
      ],
      "metadata": {
        "id": "vfRnvkznc5_P"
      }
    },
    {
      "cell_type": "markdown",
      "source": [
        "17. Añade un nuevo elemento a *lista_2*, el número 8 por ejemplo"
      ],
      "metadata": {
        "id": "17F1ACqveVdI"
      }
    },
    {
      "cell_type": "markdown",
      "source": [
        "18. Muestra la longitud o número de elementos de *lista_2*"
      ],
      "metadata": {
        "id": "IWBvVtfAeqJo"
      }
    },
    {
      "cell_type": "markdown",
      "source": [
        "19. Muestra las claves o *keys* de *diccionario*"
      ],
      "metadata": {
        "id": "UuDoe-e-fEk_"
      }
    },
    {
      "cell_type": "markdown",
      "source": [
        "20. Muestra los valores o `values` de *diccionario*"
      ],
      "metadata": {
        "id": "xkePAwYjfS2Q"
      }
    },
    {
      "cell_type": "code",
      "source": [
        "## 1- creamos las variables\n",
        "\n",
        "a = 5\n",
        "b = 7\n",
        "\n",
        "## 2- guarda la suma de a y b en la variable c\n",
        "c = a + b\n",
        "print(\"La suma de a y b es c;\", c)\n",
        "\n",
        "## 3- actualiza el valor de la variable c sumandole 2 a si misma\n",
        "c = c + 2\n",
        "\n",
        "## 4-Imprime en pantalla el valor de c\n",
        "print(c)\n",
        "\n",
        "## 5- Imprime en pantalla la siguiente frase:\n",
        "print(\"El valor de c es\", c)\n",
        "\n",
        "## 6\n",
        "\n",
        "## 7 Como podemos saber cuál es el tipo de datos de c?\n",
        "print(\"El tipo de dato de c es\", type(c))\n",
        "\n",
        "## 8 Multiplica c por 1.0. Gurada el resultado en d\n",
        "d = c * 1.0\n",
        "\n",
        "## 9- Qué clase o tipo de dato almacena la variable d?\n",
        "print(\"El tipo de dato de d es\", type (d))\n",
        "\n",
        "## 10 -A la luz del tipo de datos vistos en c y d, podemos decir que ambas variables son iguales? Escribe una expresión booleana que los iguale\n",
        "print ( c == d)\n",
        "\n",
        "## 11- Guarda en una lista las variables a, b, c y d. Llama a la variable que la almacena lista\n",
        "lista = [a, b, c, d]\n",
        "print(\"el valor de la lista es\",lista)\n",
        "\n",
        "## 12- Guarda en una tupla las variables a, b, c y d. Llama a la variable que la almacena tupla\n",
        "tupla = (a, b, c, d)\n",
        "print(\"el valor de la tupla es\", tupla)\n",
        "\n",
        "## 13- Guarda en un diccionario las variables a, b, c y d. Las claves o keys serán 'a', 'b', 'c' y 'd' y los valores las propias variables. Llama a la variable que lo almacena diccionario\n",
        "diccionario = {'a' : a, 'b' : b, 'c' : c, 'd' : d}\n",
        "print(\"el valor del diccionario\", diccionario)\n",
        "\n",
        "## 14- Muestra el primer elemento de lista\n",
        "print(\"el primer elemento de la lista es\", lista[0])\n",
        "\n",
        "## 15 Muestra el ultimo elemento de tupla\n",
        "print(\"el ultimo elemento de la tupla es\", tupla [-1])\n",
        "\n",
        "## 16 Convierte tupla en una lista. Guarda el resultado en lista_2\n",
        "lista_2= list(tupla)\n",
        "print(\"el valor de la lista_2 es\", lista_2)\n",
        "\n",
        "## 17 Añade un nuevo elemento a lista_2, el número 8 por ejemplo\n",
        "lista_2.append(8)\n",
        "print(\"el valor de la lista_2 es\", lista_2)\n",
        "\n",
        "## 18 Muestra la longitud o número de elementos de lista_2\n",
        "print(\"la longitud de la lista_2 es\", len(lista_2))\n",
        "\n",
        "## 19 Muestra las claves o keys de diccionario\n",
        "print(\"las claves del diccionario son\", diccionario.keys())\n",
        "\n",
        "##20 Muestra los valores o values de diccionario\n",
        "print(\"los valores del diccionario son\", diccionario.values())"
      ],
      "metadata": {
        "id": "tMOmO1f8R2F9",
        "outputId": "9b60ce45-a11a-4603-8e57-b462cc5d1c1f",
        "colab": {
          "base_uri": "https://localhost:8080/"
        }
      },
      "execution_count": null,
      "outputs": [
        {
          "output_type": "stream",
          "name": "stdout",
          "text": [
            "La suma de a y b es c; 12\n",
            "14\n",
            "El valor de c es 14\n",
            "El tipo de dato de c es <class 'int'>\n",
            "El tipo de dato de d es <class 'float'>\n",
            "True\n",
            "el valor de la lista es [5, 7, 14, 14.0]\n",
            "el valor de la tupla es (5, 7, 14, 14.0)\n",
            "el valor del diccionario {'a': 5, 'b': 7, 'c': 14, 'd': 14.0}\n",
            "el primer elemento de la lista es 5\n",
            "el ultimo elemento de la tupla es 14.0\n",
            "el valor de la lista_2 es [5, 7, 14, 14.0]\n",
            "el valor de la lista_2 es [5, 7, 14, 14.0, 8]\n",
            "la longitud de la lista_2 es 5\n",
            "las claves del diccionario son dict_keys(['a', 'b', 'c', 'd'])\n",
            "los valores del diccionario son dict_values([5, 7, 14, 14.0])\n"
          ]
        }
      ]
    }
  ]
}